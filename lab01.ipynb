{
  "nbformat": 4,
  "nbformat_minor": 0,
  "metadata": {
    "colab": {
      "name": "lab01.ipynb",
      "provenance": [],
      "collapsed_sections": [],
      "authorship_tag": "ABX9TyMXYRBtooAoB54upgY4vvcE",
      "include_colab_link": true
    },
    "kernelspec": {
      "name": "python3",
      "display_name": "Python 3"
    }
  },
  "cells": [
    {
      "cell_type": "markdown",
      "metadata": {
        "id": "view-in-github",
        "colab_type": "text"
      },
      "source": [
        "<a href=\"https://colab.research.google.com/github/sbacon99/csc401_dmml/blob/main/lab01.ipynb\" target=\"_parent\"><img src=\"https://colab.research.google.com/assets/colab-badge.svg\" alt=\"Open In Colab\"/></a>"
      ]
    },
    {
      "cell_type": "markdown",
      "metadata": {
        "id": "_OdawKnlVUCc"
      },
      "source": [
        "# Lab 01: Python Basics\n",
        "## Sam Bacon\n",
        "### 2/8/2021"
      ]
    },
    {
      "cell_type": "code",
      "metadata": {
        "colab": {
          "base_uri": "https://localhost:8080/"
        },
        "id": "ihofjpt3VSVh",
        "outputId": "40b1f6bd-f44a-4fc3-e275-672e0222f252"
      },
      "source": [
        "counts = {}\n",
        "\n",
        "\n",
        "with open('lab01_testFile.txt', 'r') as f:\n",
        "    for line in f:\n",
        "      #print(line)\n",
        "      words = line.split(sep=' ')\n",
        "      for word in words:\n",
        "        if word in counts:\n",
        "          counts[word] += 1\n",
        "        else:\n",
        "          counts[word] = 1\n",
        "\n",
        "counts\n",
        "\n"
      ],
      "execution_count": null,
      "outputs": [
        {
          "output_type": "execute_result",
          "data": {
            "text/plain": [
              "{'A': 1,\n",
              " \"Let's\": 1,\n",
              " 'Python': 2,\n",
              " 'So': 1,\n",
              " 'Words': 1,\n",
              " 'a': 1,\n",
              " 'and': 2,\n",
              " 'for': 1,\n",
              " 'is': 1,\n",
              " 'little': 2,\n",
              " 'many': 1,\n",
              " 'powerful': 1,\n",
              " 'read': 1,\n",
              " 'so': 1,\n",
              " 'summarize': 1,\n",
              " 'the': 1,\n",
              " 'them': 1,\n",
              " 'thing.': 1,\n",
              " 'time.\\n': 1,\n",
              " 'to': 1,\n",
              " 'us.\\n': 1,\n",
              " 'use': 1,\n",
              " 'words': 3,\n",
              " 'words.\\n': 1}"
            ]
          },
          "metadata": {
            "tags": []
          },
          "execution_count": 4
        }
      ]
    },
    {
      "cell_type": "code",
      "metadata": {
        "id": "UySdLeoaVxNM"
      },
      "source": [
        ""
      ],
      "execution_count": null,
      "outputs": []
    }
  ]
}